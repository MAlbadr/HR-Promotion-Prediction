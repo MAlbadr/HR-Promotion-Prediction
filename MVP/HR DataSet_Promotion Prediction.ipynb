{
 "cells": [
  {
   "cell_type": "code",
   "execution_count": null,
   "id": "f046f9ad",
   "metadata": {},
   "outputs": [],
   "source": [
    "# import libraries:\n",
    "\n",
    "import numpy as np      # numpy to using linear algebra functions,\n",
    "import pandas as pd     # pandas for data processing (e.g. read the dataset)\n",
    "\n",
    "import matplotlib.pyplot as plt # matplotlib to visualize data,\n",
    "import seaborn as sns    \n",
    " \n",
    "sns.set(style='darkgrid')\n",
    "sns.set_palette(\"pastel\")\n",
    "import plotly.express as px\n",
    "from IPython.display import Image\n",
    "from plotly.subplots import make_subplots\n",
    "import warnings\n",
    "warnings.filterwarnings('ignore')\n",
    "\n",
    "#!conda install -c https://conda.anaconda.org/plotly plotly\n",
    "#pip uninstall tensorflow-cpu\n",
    "#pip install tensorflow-cpu\n"
   ]
  },
  {
   "cell_type": "code",
   "execution_count": null,
   "id": "8f8fa2fa",
   "metadata": {},
   "outputs": [],
   "source": [
    "# read data files, then store the data files in df dataframes\n",
    "df = pd.read_csv(\"train_data.csv\")\n",
    "test_df= pd.read_csv(\"test_data.csv\")"
   ]
  },
  {
   "cell_type": "code",
   "execution_count": null,
   "id": "199b19f4",
   "metadata": {},
   "outputs": [],
   "source": [
    "#show first five dataframe content \n",
    "df.head()"
   ]
  },
  {
   "cell_type": "code",
   "execution_count": null,
   "id": "3df286ed",
   "metadata": {},
   "outputs": [],
   "source": [
    "# print the data detailes number of raws and clumns title\n",
    "print(\"rows:\",  len(df))\n",
    "print(\"Columns:\", list(df.columns))"
   ]
  },
  {
   "cell_type": "code",
   "execution_count": null,
   "id": "d83adeeb",
   "metadata": {},
   "outputs": [],
   "source": [
    "# explore the data type at each series\n",
    "df.info()"
   ]
  },
  {
   "cell_type": "code",
   "execution_count": null,
   "id": "d4ef0377",
   "metadata": {},
   "outputs": [],
   "source": [
    "#check to null values \n",
    "df.isna().sum()"
   ]
  },
  {
   "cell_type": "code",
   "execution_count": null,
   "id": "fd3cc40f",
   "metadata": {},
   "outputs": [],
   "source": [
    "#drop null values \n",
    "df = df.dropna()\n",
    "len(df)"
   ]
  },
  {
   "cell_type": "code",
   "execution_count": null,
   "id": "379b9961",
   "metadata": {},
   "outputs": [],
   "source": [
    "#change data type: \"float64\" type can make it difficult for us to do some operations it will be changed its format to \"integer\".\n",
    "df['previous_year_rating'] = df['previous_year_rating'].astype(np.int64)"
   ]
  },
  {
   "cell_type": "code",
   "execution_count": null,
   "id": "78896a3f",
   "metadata": {},
   "outputs": [],
   "source": [
    "#Data analysis and visualization for each column"
   ]
  },
  {
   "cell_type": "code",
   "execution_count": null,
   "id": "0be2e22e",
   "metadata": {},
   "outputs": [],
   "source": [
    "# depends on the Number of employees promoted / not promoted\n",
    "\n",
    "promo = pd.DataFrame(df.is_promoted.value_counts())\n",
    "promo.columns = [\"Promoted\"]\n",
    "promo[\"Values\"] = promo.index\n",
    "promo[\"Values\"] = promo[\"Values\"].map({0:\"No promoted\", 1:\"promoted\"})\n",
    "fig = px.pie(promo, values= \"Promoted\", names = \"Values\", title = \"Employees Promoted\", color_discrete_sequence=px.colors.qualitative.Pastel2)\n",
    "fig.update_layout(\n",
    "    autosize=False,\n",
    "    width=1000,\n",
    "    height=500)\n",
    "fig.show()"
   ]
  },
  {
   "cell_type": "code",
   "execution_count": null,
   "id": "5d9dc4e5",
   "metadata": {},
   "outputs": [],
   "source": [
    "# depends on the Department\n",
    "depart = pd.DataFrame(df.department.value_counts())\n",
    "depart.columns = [\"Values\"]\n",
    "depart[\"Departaments\"] = depart.index\n",
    "fig = px.bar(depart, x = \"Departaments\", y= \"Values\", title = \"Number of Employees by Department\", color_discrete_sequence=px.colors.qualitative.Pastel2)\n",
    "fig.update_layout(\n",
    "    autosize=False,\n",
    "    width=850,\n",
    "    height=650)\n",
    "fig.show()"
   ]
  },
  {
   "cell_type": "code",
   "execution_count": null,
   "id": "ec6c7b30",
   "metadata": {},
   "outputs": [],
   "source": [
    "\n",
    "depart = pd.DataFrame(df.groupby(\"is_promoted\").department.value_counts().reset_index(name='Values'))\n",
    "for i in range(0,9):\n",
    "    value = round(depart[depart[\"is_promoted\"] == 1].iloc[i,2] / depart[depart[\"is_promoted\"] == 0].iloc[i,2] * 100, 2)\n",
    "    nombre = depart.iloc[i,1]\n",
    "    print(\"Percentage of Employees Promoted in Department \"+ str(nombre) + \": \" + str(value) + \"%\")\n",
    "depart[\"is_promoted\"] = depart[\"is_promoted\"].map({0:\"No is_promoted\", 1:\"is_promoted\"})\n",
    "\n",
    "plt.figure(figsize=(12, 8))\n",
    "sns.barplot(x='department', y='Values', data=depart, hue='is_promoted')\n",
    "plt.legend(title='Promotion', bbox_to_anchor=(1.05, 1), loc='upper left')\n",
    "plt.xlabel('Promoted and Non-Promoted Employees by Department')\n",
    "plt.show()"
   ]
  },
  {
   "cell_type": "code",
   "execution_count": null,
   "id": "8fd16840",
   "metadata": {},
   "outputs": [],
   "source": [
    "# depends on the Region\n",
    "region = pd.DataFrame(df.region.value_counts())\n",
    "region.columns = [\"Region\"]\n",
    "region[\"Values\"] = region.index\n",
    "fig = px.pie(region, values= \"Region\", names = \"Values\", title = \"Number of Employees by Region\",color_discrete_sequence=px.colors.qualitative.Set2)\n",
    "fig.update_traces(textposition='inside')\n",
    "fig.update_layout(uniformtext_minsize=12, uniformtext_mode='hide')\n",
    "fig.update_layout(\n",
    "    autosize=False,\n",
    "    width=1000,\n",
    "    height=500)\n",
    "fig.show()\n",
    "print(\"The organization's employees come from \" + str(df.region.nunique()) + \" different regions.\")"
   ]
  },
  {
   "cell_type": "code",
   "execution_count": null,
   "id": "2d658b64",
   "metadata": {},
   "outputs": [],
   "source": [
    "# depends on the Education\n",
    "educ = pd.DataFrame(df.groupby(\"is_promoted\").education.value_counts().reset_index(name='Values'))\n",
    "for i in range(0,3):\n",
    "    value = round(educ[educ[\"is_promoted\"] == 1].iloc[i,2] / educ[educ[\"is_promoted\"] == 0].iloc[i,2] * 100, 2)\n",
    "    nombre = educ.iloc[i,1]\n",
    "    print(f\"Percentage of Employees Promoted in Department\"+ str(nombre) + \": \" + str(value) + \"%\")\n",
    "\n",
    "educ[\"is_promoted\"] = educ[\"is_promoted\"].map({0:\"No Promoted\", 1:\"Promoted\"})\n",
    "\n",
    "plt.figure(figsize=(12, 8))\n",
    "sns.barplot(x='education', y='Values', data=educ, hue='is_promoted')\n",
    "plt.legend(title='Promotion', bbox_to_anchor=(1.05, 1), loc='upper left')\n",
    "plt.xlabel('Promoted and Non-Promoted Employees by Department')\n",
    "plt.show()"
   ]
  },
  {
   "cell_type": "code",
   "execution_count": null,
   "id": "afe2402c",
   "metadata": {},
   "outputs": [],
   "source": [
    "# depends on the Gender\n",
    "gender = pd.DataFrame(df.groupby(\"is_promoted\").gender.value_counts().reset_index(name='Values'))\n",
    "\n",
    "plt.figure(figsize=(13, 8))\n",
    "sns.barplot(x='gender', y='Valores', data=genero, hue='is_promoted')\n",
    "plt.title(\"Promoted and Non-Promoted Employees by Gender\")\n",
    "plt.legend(title='Promotion', bbox_to_anchor=(1.05, 1), loc='upper left')\n",
    "plt.xlabel('Gender')\n",
    "plt.show()"
   ]
  },
  {
   "cell_type": "code",
   "execution_count": null,
   "id": "d77f02e0",
   "metadata": {},
   "outputs": [],
   "source": [
    "# depends on the Recruitment Channel\n",
    "channal = pd.DataFrame(df.groupby(\"is_promoted\").recruitment_channel.value_counts().reset_index(name='Values'))\n",
    "plt.figure(figsize=(12, 8))\n",
    "sns.barplot(x='recruitment_channel', y='Values', data=channal, hue='is_promoted')\n",
    "plt.title(\"Promoted and Non-Promoted Employees by Recruitment Channel\")\n",
    "plt.legend(title='Promotion', bbox_to_anchor=(1.05, 1), loc='upper left')\n",
    "plt.xlabel('Recruitment Channel')\n",
    "plt.show()"
   ]
  },
  {
   "cell_type": "code",
   "execution_count": null,
   "id": "f2cda0d2",
   "metadata": {},
   "outputs": [],
   "source": [
    "# depends on the Training\n",
    "training = pd.DataFrame(df.groupby(\"is_promoted\").no_of_trainings.value_counts().reset_index(name='Values'))\n",
    "promo_entrenamientos = training[training[\"is_promoted\"]==1]\n",
    "plt.figure(figsize=(12, 8))\n",
    "sns.barplot(data=promo_training, x=\"no_of_trainings\", y=\"Values\")\n",
    "plt.title(\"Employees Promoted by Number of Previous Trainings\")\n",
    "plt.xlabel('Number of Trainings')"
   ]
  },
  {
   "cell_type": "code",
   "execution_count": null,
   "id": "8a0d89b9",
   "metadata": {},
   "outputs": [],
   "source": [
    "# Numerical variables\n",
    "numericas = [\"age\", \"previous_year_rating\", \"length_of_service\",\"KPIs_met >80%\",\"awards_won?\",\"avg_training_score\"]\n",
    "df[numericas].hist(figsize=(16,8),layout=(2,3), density=True)\n",
    "plt.show()"
   ]
  },
  {
   "cell_type": "code",
   "execution_count": null,
   "id": "109a1cba",
   "metadata": {},
   "outputs": [],
   "source": [
    "# depends on the age\n",
    "fig = px.histogram(df, x=\"age\", title = \"Age Distribution of Employees\", color = \"is_promoted\", labels= {\"age\":\"Age\",\"is_promoted\": \"Promotion\"},nbins=35, color_discrete_sequence=px.colors.qualitative.Pastel2)\n",
    "fig.update_layout(yaxis_title=\" \")\n",
    "fig.update_layout(\n",
    "    autosize=False,\n",
    "    width=900,\n",
    "    height=650)\n",
    "fig.show()\n",
    "print(\"The average age of the employees is \" + str(round(np.mean(df.age),0)))\n",
    "print(\"The median age of the employees is \" + str(np.median(df.age)))"
   ]
  },
  {
   "cell_type": "code",
   "execution_count": null,
   "id": "094c659f",
   "metadata": {},
   "outputs": [],
   "source": [
    "# depends on the year rating\n",
    "fig = px.histogram(df, x=\"previous_year_rating\", title = \"Distribution of Employees' Prior Year Scores\", color = \"is_promoted\", labels= {\"previous_year_rating\":\"Scores\",\"is_promoted\": \"Promotion\"},nbins=35, color_discrete_sequence=px.colors.qualitative.Pastel2)\n",
    "fig.update_layout(yaxis_title=\" \")\n",
    "fig.update_layout(\n",
    "    autosize=False,\n",
    "    width=900,\n",
    "    height=650)\n",
    "fig.show()\n",
    "print(\"The mean score of the non-promoted employees is \" + str(round(np.mean(df[df[\"is_promoted\"]==0].previous_year_rating),2)))\n",
    "print(\"The average score of the promoted employees is \" + str(round(np.mean(df[df[\"is_promoted\"]==1].previous_year_rating),2)))"
   ]
  },
  {
   "cell_type": "code",
   "execution_count": null,
   "id": "854c5ff6",
   "metadata": {},
   "outputs": [],
   "source": [
    "# depends on the length of service\n",
    "fig = px.histogram(df, x=\"length_of_service\", title = \"Distribution of Number of Years of Employee Service\", color = \"is_promoted\", labels= {\"length_of_service\":\"Years of service\",\"is_promoted\": \"Promotion\"},nbins=35, color_discrete_sequence=px.colors.qualitative.Pastel2)\n",
    "fig.update_layout(yaxis_title=\" \")\n",
    "fig.update_layout(\n",
    "    autosize=False,\n",
    "    width=900,\n",
    "    height=650)\n",
    "fig.show()\n",
    "print(\"The mean years of service of non-promoted employees is \" + str(round(np.mean(df[df[\"is_promoted\"]==0].length_of_service),2)))\n",
    "print(\"The average years of service of non-promoted employees is \" + str(round(np.mean(df[df[\"is_promoted\"]==1].length_of_service),2)))"
   ]
  },
  {
   "cell_type": "code",
   "execution_count": null,
   "id": "b865d787",
   "metadata": {},
   "outputs": [],
   "source": [
    "# depends on the KPIs greater then 80%\n",
    "fig = px.histogram(df, x=\"KPIs_met >80%\", title = \"Distribution of Number of Employees that exceeded 80 of their KPIs\", color = \"is_promoted\", labels= {\"KPIs_met >80%\":\"KPI > 80\",\"is_promoted\": \"Promotion\"},nbins=35, color_discrete_sequence=px.colors.qualitative.Pastel2)\n",
    "fig.update_layout(yaxis_title=\" \")\n",
    "fig.update_layout(\n",
    "    autosize=False,\n",
    "    width=700,\n",
    "    height=650)\n",
    "fig.show()\n",
    "\n",
    "kpi_no = round(len(df[(df[\"is_promoted\"]==1) & (df[\"KPIs_met >80%\"] == 0)]) / len(df[df[\"KPIs_met >80%\"] == 0]) *100, 2)\n",
    "kpi_si = round(len(df[(df[\"is_promoted\"]==1) & (df[\"KPIs_met >80%\"] == 1)]) / len(df[df[\"KPIs_met >80%\"] == 1]) *100, 2)\n",
    "\n",
    "print(\"El \" + str(kpi_no) + \"% of employees who did not exceed 80% of their KPIs were promoted\")\n",
    "print(\"El \" + str(kpi_si) + \"% of employees who did exceed 80% of their KPIs were promoted\")"
   ]
  },
  {
   "cell_type": "code",
   "execution_count": null,
   "id": "a3874b98",
   "metadata": {},
   "outputs": [],
   "source": [
    "# depends on the awards won\n",
    "fig = px.histogram(df, x=\"awards_won?\", title = \"Distribution of Number of Employees by Awards Obtained\", color = \"is_promoted\", labels= {\"awards_won?\":\"Awards Obtained\",\"is_promoted\": \"Promotion\"},nbins=35, color_discrete_sequence=px.colors.qualitative.Pastel2)\n",
    "fig.update_layout(yaxis_title=\" \")\n",
    "fig.update_layout(\n",
    "    autosize=False,\n",
    "    width=700,\n",
    "    height=650)\n",
    "fig.show()\n",
    "\n",
    "kpi_no = round(len(df[(df[\"is_promoted\"]==1) & (df[\"awards_won?\"] == 0)]) / len(df[df[\"awards_won?\"] == 0]) *100, 2)\n",
    "kpi_si = round(len(df[(df[\"is_promoted\"]==1) & (df[\"awards_won?\"] == 1)]) / len(df[df[\"awards_won?\"] == 1]) * 100, 2)\n",
    "\n",
    "print(\"El \" + str(kpi_no) + \"% of employees who did not win awards were promoted\")\n",
    "print(\"El \" + str(kpi_si) + \"% of employees who did obtain perms were promoted\")"
   ]
  },
  {
   "cell_type": "code",
   "execution_count": null,
   "id": "ce360065",
   "metadata": {},
   "outputs": [],
   "source": [
    "# depends on the average of training score\n",
    "fig = px.histogram(df, x=\"avg_training_score\", title = \"Distribution of Number of Employees by Average Training Score\", color = \"is_promoted\", labels= {\"avg_training_score\":\"Average Training Score\",\"is_promoted\": \"Promotion\"},nbins=35, color_discrete_sequence=px.colors.qualitative.Pastel2)\n",
    "fig.update_layout(yaxis_title=\" \")\n",
    "fig.update_layout(\n",
    "    autosize=False,\n",
    "    width=900,\n",
    "    height=650)\n",
    "fig.show()\n",
    "print(\"The mean Training Score of non-promoted employees is \" + str(round(np.mean(df[df[\"is_promoted\"]==0].avg_training_score),2)))\n",
    "print(\"The average Training Score of the promoted employees is \" + str(round(np.mean(df[df[\"is_promoted\"]==1].avg_training_score),2)))"
   ]
  },
  {
   "cell_type": "code",
   "execution_count": null,
   "id": "a97a6753",
   "metadata": {},
   "outputs": [],
   "source": [
    "# It will be to eliminate the employee id and the regions which can lead to lower precision, it is not helpful for the predictive model\n",
    "df.drop([\"employee_id\", \"region\"], axis=1, inplace=True)"
   ]
  },
  {
   "cell_type": "code",
   "execution_count": null,
   "id": "41f4f6dc",
   "metadata": {},
   "outputs": [],
   "source": [
    "# to convert the categorical variables into numeric into numerical values such as 0,1,2,...\n",
    "df.department = df.department.map({\"Sales & Marketing\":0,\n",
    "                 \"Operations\":1,\n",
    "                 \"Technology\":2,\n",
    "                 \"Analytics\":3,\n",
    "                 \"R&D\":4,\n",
    "                 \"Procurement\":5,\n",
    "                 \"Finance\":6,\n",
    "                 \"HR\":7,\n",
    "                 \"Legal\":8})\n",
    "df.education = df.education.map({\"Master's & above\":0,\n",
    "                                \"Bachelor's\":1,\n",
    "                                \"Below Secondary\":2})\n",
    "df.gender = df.gender.map({\"f\":0,\n",
    "                          \"m\":1})\n",
    "df.recruitment_channel = df.recruitment_channel.map({\"sourcing\":0,\n",
    "                                                    \"other\":1,\n",
    "                                                    \"referred\":2})\n",
    "df.head()"
   ]
  },
  {
   "cell_type": "code",
   "execution_count": null,
   "id": "0a42146d",
   "metadata": {},
   "outputs": [],
   "source": [
    "# train and compare the scores of multiple ranking algorithms: Logistic Regression, Support Vector Machines, Decision Trees, Random Classification Forests, Naive Bayesian Classifier, and Extreme Gradient Boosting\n",
    "Como base, utilicé el código de Roberto Salazar para esta tarea\n",
    "from sklearn.metrics import make_scorer, accuracy_score, precision_score, recall_score, f1_score, roc_auc_score\n",
    "from sklearn.model_selection import cross_validate, StratifiedKFold, RandomizedSearchCV\n",
    "\n",
    "scoring = {'accuracy':make_scorer(accuracy_score), \n",
    "           'precision':make_scorer(precision_score),\n",
    "           'recall':make_scorer(recall_score), \n",
    "           'f1_score':make_scorer(f1_score),\n",
    "            'roc_auc':make_scorer(roc_auc_score)}\n",
    "\n",
    "log_model = LogisticRegression(max_iter=10000)\n",
    "svc_model = LinearSVC(dual=False)\n",
    "dtr_model = DecisionTreeClassifier()\n",
    "rfc_model = RandomForestClassifier()\n",
    "gnb_model = GaussianNB()\n",
    "xgb_model = xgb.XGBClassifier()\n",
    "\n",
    "def models_evaluation(X, y, folds):\n",
    "    log = cross_validate(log_model, X, y, cv=folds, scoring=scoring)\n",
    "    svc = cross_validate(svc_model, X, y, cv=folds, scoring=scoring)\n",
    "    dtr = cross_validate(dtr_model, X, y, cv=folds, scoring=scoring)\n",
    "    rfc = cross_validate(rfc_model, X, y, cv=folds, scoring=scoring)\n",
    "    gnb = cross_validate(gnb_model, X, y, cv=folds, scoring=scoring)\n",
    "    xgb = cross_validate(xgb_model, X, y, cv=folds, scoring=scoring)\n",
    "\n",
    "\n",
    "    models_scores_table = pd.DataFrame({'Logistic Regression':[log['test_accuracy'].mean(),\n",
    "                                                               log['test_precision'].mean(),\n",
    "                                                               log['test_recall'].mean(),\n",
    "                                                               log['test_f1_score'].mean(),\n",
    "                                                               log['test_roc_auc'].mean()],\n",
    "                                       \n",
    "                                      'Support Vector Classifier':[svc['test_accuracy'].mean(),\n",
    "                                                                   svc['test_precision'].mean(),\n",
    "                                                                   svc['test_recall'].mean(),\n",
    "                                                                   svc['test_f1_score'].mean(),\n",
    "                                                                   svc['test_roc_auc'].mean()],\n",
    "                                       \n",
    "                                      'Decision Tree':[dtr['test_accuracy'].mean(),\n",
    "                                                       dtr['test_precision'].mean(),\n",
    "                                                       dtr['test_recall'].mean(),\n",
    "                                                       dtr['test_f1_score'].mean(),\n",
    "                                                       dtr['test_roc_auc'].mean()],\n",
    "                                       \n",
    "                                      'Random Forest':[rfc['test_accuracy'].mean(),\n",
    "                                                       rfc['test_precision'].mean(),\n",
    "                                                       rfc['test_recall'].mean(),\n",
    "                                                       rfc['test_f1_score'].mean(),\n",
    "                                                       rfc['test_roc_auc'].mean()],\n",
    "                                       \n",
    "                                      'Gaussian Naive Bayes':[gnb['test_accuracy'].mean(),\n",
    "                                                              gnb['test_precision'].mean(),\n",
    "                                                              gnb['test_recall'].mean(),\n",
    "                                                              gnb['test_f1_score'].mean(),\n",
    "                                                              gnb['test_roc_auc'].mean()],\n",
    "                                        \n",
    "                                       'Extreme Gradient Boosting':[xgb['test_accuracy'].mean(),\n",
    "                                                              xgb['test_precision'].mean(),\n",
    "                                                              xgb['test_recall'].mean(),\n",
    "                                                              xgb['test_f1_score'].mean(),\n",
    "                                                              xgb['test_roc_auc'].mean()]},\n",
    "                                      \n",
    "                                      index=['Accuracy', 'Precision', 'Recall', 'F1 Score', \"AUC ROC\"])\n",
    "    \n",
    "\n",
    "    models_scores_table['Best Score'] = models_scores_table.idxmax(axis=1)\n",
    "\n",
    "    return(models_scores_table)\n",
    "  \n",
    "models_evaluation(features, target, 5)\n",
    "\n",
    "# assume that both the \"Accuracy\" and the \"Recovery\" rate have the exact cost to the company,\n",
    "#Thus, the F1 score will be used, which is a balance of both scores. The algorithm that performs best on this score is Extreme Gradient Boosting."
   ]
  },
  {
   "cell_type": "code",
   "execution_count": null,
   "id": "50465e3b",
   "metadata": {},
   "outputs": [],
   "source": [
    "# Hyperparameter tuning\n",
    "from datetime import datetime\n",
    "\n",
    "def timer(start_time=None):\n",
    "    if not start_time:\n",
    "        start_time = datetime.now()\n",
    "        return start_time\n",
    "    elif start_time:\n",
    "        thour, temp_sec = divmod((datetime.now() - start_time).total_seconds(), 3600)\n",
    "        tmin, tsec = divmod(temp_sec, 60)\n",
    "        print('\\n Time taken: %i hours %i minutes and %s seconds.' % (thour, tmin, round(tsec, 2)))\n",
    "\n",
    "        \n",
    "params = {\n",
    "        'min_child_weight': [1,3, 5, 7, 10],\n",
    "        'gamma': [0.5, 1, 1.5, 2, 5],\n",
    "        'subsample': [0.2, 0.4, 0.6, 0.8, 1.0],\n",
    "        'colsample_bytree': [0.2, 0.4, 0.6, 0.8, 1.0],\n",
    "        'max_depth': [2, 3, 4, 5, 7,9]\n",
    "        }\n",
    "\n",
    "folds = 5\n",
    "param_comb = 20\n",
    "\n",
    "skf = StratifiedKFold(n_splits=folds, shuffle = True, random_state = 7)\n",
    "\n",
    "random_search = RandomizedSearchCV(xgb_model, param_distributions=params, n_iter=param_comb, scoring='f1',verbose = 3, n_jobs=4, cv=skf.split(features,target), random_state=7)\n",
    "\n",
    "\n",
    "start_time = timer(None) \n",
    "random_search.fit(features, target)\n",
    "timer(start_time)"
   ]
  },
  {
   "cell_type": "code",
   "execution_count": null,
   "id": "225825ca",
   "metadata": {},
   "outputs": [],
   "source": [
    "print ('Optimal Parameters:')\n",
    "print (random_search.best_params_)\n",
    "print (\"\\ n Best F1 Score Obtained\")\n",
    "print (random_search.best_score_)"
   ]
  },
  {
   "cell_type": "code",
   "execution_count": null,
   "id": "3f54f09d",
   "metadata": {},
   "outputs": [],
   "source": [
    "test = test_full.copy() \n",
    "\n",
    "test.drop([\"employee_id\",\"region\"],axis=1, inplace=True)\n",
    "\n",
    "test.department = test.department.map({\"Sales & Marketing\":0,\n",
    "                 \"Operations\":1,\n",
    "                 \"Technology\":2,\n",
    "                 \"Analytics\":3,\n",
    "                 \"R&D\":4,\n",
    "                 \"Procurement\":5,\n",
    "                 \"Finance\":6,\n",
    "                 \"HR\":7,\n",
    "                 \"Legal\":8})\n",
    "test.education = test.education.map({\"Master's & above\":0,\n",
    "                                \"Bachelor's\":1,\n",
    "                                \"Below Secondary\":2})\n",
    "test.gender = test.gender.map({\"f\":0,\n",
    "                          \"m\":1})\n",
    "test.recruitment_channel = test.recruitment_channel.map({\"sourcing\":0,\n",
    "                                                    \"other\":1,\n",
    "                                                    \"referred\":2})\n",
    "\n",
    "test.head()"
   ]
  },
  {
   "cell_type": "code",
   "execution_count": null,
   "id": "491b58b9",
   "metadata": {},
   "outputs": [],
   "source": [
    "y_test = random_search.predict (test)\n",
    "y_test_prob = random_search.predict_proba (test)\n",
    "results = pd.DataFrame (data = {'id': test_full ['employee_id'], 'Promoted': y_test, \"Probability\": y_test_prob [:, 1]})\n",
    "print (results.head ())\n",
    "print (\"The number of Promoted Employees is:\" + str (len (results [results [\"Promoted\"] == 1])))"
   ]
  }
 ],
 "metadata": {
  "kernelspec": {
   "display_name": "Python 3 (ipykernel)",
   "language": "python",
   "name": "python3"
  },
  "language_info": {
   "codemirror_mode": {
    "name": "ipython",
    "version": 3
   },
   "file_extension": ".py",
   "mimetype": "text/x-python",
   "name": "python",
   "nbconvert_exporter": "python",
   "pygments_lexer": "ipython3",
   "version": "3.9.7"
  }
 },
 "nbformat": 4,
 "nbformat_minor": 5
}
